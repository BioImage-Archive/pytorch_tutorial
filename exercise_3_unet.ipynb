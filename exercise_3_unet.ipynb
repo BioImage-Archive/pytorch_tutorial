{
 "cells": [
  {
   "cell_type": "code",
   "execution_count": 1,
   "metadata": {},
   "outputs": [
    {
     "name": "stdout",
     "output_type": "stream",
     "text": [
      "Using device: mps\n"
     ]
    }
   ],
   "source": [
    "# %%\n",
    "\n",
    "import torch\n",
    "from torch import nn\n",
    "from torchvision import datasets, transforms\n",
    "from torch.utils.data import DataLoader\n",
    "from tqdm import tqdm\n",
    "import torchvision.models as models\n",
    "# !pip install monai\n",
    "import monai\n",
    "from PIL import Image\n",
    "import torchvision.transforms.functional as F\n",
    "\n",
    "torch.manual_seed(42)\n",
    "\n",
    "device = torch.device(\"cpu\")\n",
    "\n",
    "if torch.backends.mps.is_available():\n",
    "    device = torch.device(\"mps\")\n",
    "if torch.cuda.is_available():\n",
    "    device = torch.device(\"cuda\")\n",
    "\n",
    "print(f\"Using device: {device}\")"
   ]
  },
  {
   "cell_type": "code",
   "execution_count": 2,
   "metadata": {},
   "outputs": [],
   "source": [
    "# %%\n",
    "model = monai.networks.nets.UNet(\n",
    "    spatial_dims=2,\n",
    "    in_channels=3,\n",
    "    out_channels=1,\n",
    "    channels=(16, 32, 64, 128, 256),\n",
    "    strides=(2, 2, 2, 2),\n",
    "    num_res_units=2,\n",
    ")"
   ]
  },
  {
   "cell_type": "code",
   "execution_count": 3,
   "metadata": {},
   "outputs": [],
   "source": [
    "# %%\n",
    "# Model pretrained on imagenet"
   ]
  },
  {
   "cell_type": "code",
   "execution_count": 4,
   "metadata": {},
   "outputs": [],
   "source": [
    "# %%\n",
    "# Larger transformation pipeline for imagenet\n",
    "transform = transforms.Compose(\n",
    "    [\n",
    "        transforms.ToTensor(),\n",
    "        transforms.RandomHorizontalFlip(),\n",
    "        transforms.RandomVerticalFlip(),\n",
    "        transforms.RandomRotation(20),\n",
    "        transforms.Normalize((0.5,), (0.5,)),\n",
    "        transforms.Resize((128, 128)),\n",
    "    ]\n",
    ")"
   ]
  },
  {
   "cell_type": "code",
   "execution_count": 5,
   "metadata": {},
   "outputs": [
    {
     "name": "stdout",
     "output_type": "stream",
     "text": [
      "Using downloaded and verified file: ./data/sbd/benchmark.tgz\n",
      "Extracting ./data/sbd/benchmark.tgz to ./data/sbd\n",
      "Destination path './data/sbd/cls' already exists\n"
     ]
    }
   ],
   "source": [
    "# %%\n",
    "try:\n",
    "    datasets.SBDataset(\n",
    "        root=\"./data/sbd\",\n",
    "        image_set=\"train\",\n",
    "        download=True,\n",
    "        mode=\"segmentation\",\n",
    "    )\n",
    "    datasets.SBDataset(\n",
    "        root=\"./data/sbd\",\n",
    "        image_set=\"val\",\n",
    "        download=True,\n",
    "        mode=\"segmentation\",\n",
    "    )\n",
    "except Exception as e:\n",
    "    print(e)\n",
    "\n",
    "train_data = datasets.SBDataset(\n",
    "    root=\"./data/sbd\",\n",
    "    image_set=\"train\",\n",
    "    transforms=lambda x, y: [transform(x), transform(y)],\n",
    "    # download=True,\n",
    "    mode=\"segmentation\",\n",
    ")\n",
    "\n",
    "test_data = datasets.SBDataset(\n",
    "    root=\"./data/sbd\",\n",
    "    image_set=\"val\",\n",
    "    transforms=lambda x, y: [transform(x), transform(y)],\n",
    "    # download=True,\n",
    "    mode=\"segmentation\",\n",
    ")\n",
    "\n",
    "\n",
    "train_dataloader = DataLoader(train_data, batch_size=64, shuffle=True)\n",
    "test_dataloader = DataLoader(test_data, batch_size=64, shuffle=True)\n"
   ]
  },
  {
   "cell_type": "code",
   "execution_count": 6,
   "metadata": {},
   "outputs": [],
   "source": [
    "# %%\n",
    "X_test = F.to_pil_image(train_data[0][0]).save(\"X_test.png\")\n",
    "y_test = F.to_pil_image(train_data[0][1]).save(\"y_test.png\")"
   ]
  },
  {
   "cell_type": "code",
   "execution_count": 7,
   "metadata": {},
   "outputs": [],
   "source": [
    "# %%\n",
    "learning_rate = 1e-4\n",
    "epochs = 100\n",
    "# Dice is a log loss function so negative values are expected\n",
    "loss_function = monai.losses.DiceLoss(softmax=True)\n",
    "optimizer = torch.optim.SGD(model.parameters(), lr=learning_rate)\n",
    "loss_fn = monai.losses.DiceLoss(sigmoid=True)"
   ]
  },
  {
   "cell_type": "code",
   "execution_count": 8,
   "metadata": {},
   "outputs": [],
   "source": [
    "# %%\n",
    "assert model(train_data[0][0].unsqueeze(0)).shape == (\n",
    "    1,\n",
    "    1,\n",
    "    128,\n",
    "    128,\n",
    "), \"Model output shape is correct\""
   ]
  },
  {
   "cell_type": "code",
   "execution_count": 9,
   "metadata": {},
   "outputs": [],
   "source": [
    "# %%\n",
    "model = model.to(device)"
   ]
  },
  {
   "cell_type": "code",
   "execution_count": 10,
   "metadata": {},
   "outputs": [
    {
     "name": "stderr",
     "output_type": "stream",
     "text": [
      "  0%|          | 0/100 [00:00<?, ?it/s]"
     ]
    },
    {
     "name": "stdout",
     "output_type": "stream",
     "text": [
      "Epoch: 1, Loss: -3.176144, Progress: [0/8498]\n",
      "Epoch: 1, Loss: -3.245847, Progress: [640/8498]\n",
      "Epoch: 1, Loss: -3.271580, Progress: [1280/8498]\n",
      "Epoch: 1, Loss: -3.309801, Progress: [1920/8498]\n",
      "Epoch: 1, Loss: -3.318891, Progress: [2560/8498]\n",
      "Epoch: 1, Loss: -3.431382, Progress: [3200/8498]\n",
      "Epoch: 1, Loss: -3.422415, Progress: [3840/8498]\n",
      "Epoch: 1, Loss: -3.478830, Progress: [4480/8498]\n"
     ]
    }
   ],
   "source": [
    "# %%\n",
    "for epoch in tqdm(range(epochs)):\n",
    "    size = len(train_dataloader.dataset)\n",
    "    for batch, (X, y) in enumerate(train_dataloader):\n",
    "        X = X.to(device)\n",
    "        y = y.to(device)\n",
    "\n",
    "        pred = model(X)\n",
    "        loss = loss_fn(pred, y)\n",
    "\n",
    "        optimizer.zero_grad()\n",
    "        loss.backward()\n",
    "        optimizer.step()\n",
    "\n",
    "        if batch % 10 == 0:\n",
    "            loss, current = loss.item(), batch * len(X)\n",
    "            print(f\"Epoch: {epoch+1}, Loss: {loss:.6f}, Progress: [{current}/{size}]\")"
   ]
  },
  {
   "cell_type": "code",
   "execution_count": null,
   "metadata": {},
   "outputs": [],
   "source": [
    "# %%"
   ]
  }
 ],
 "metadata": {
  "kernelspec": {
   "display_name": "Python 3",
   "language": "python",
   "name": "python3"
  },
  "language_info": {
   "codemirror_mode": {
    "name": "ipython",
    "version": 3
   },
   "file_extension": ".py",
   "mimetype": "text/x-python",
   "name": "python",
   "nbconvert_exporter": "python",
   "pygments_lexer": "ipython3",
   "version": "3.10.13"
  }
 },
 "nbformat": 4,
 "nbformat_minor": 2
}
